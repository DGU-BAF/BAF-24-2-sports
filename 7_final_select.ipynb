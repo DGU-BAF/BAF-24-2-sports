{
  "cells": [
    {
      "cell_type": "markdown",
      "metadata": {},
      "source": [
        "# 최적의 선수 선택\n",
        "1. 급여를 1억 1200만달러 넘지 않는 조건\n",
        "2. 클러스터별 필요 인원을 설정한 후 선수 선택\n",
        "3. 선택한 선수들의 평균 평점이 가장 높은 경우의 수를 탐색"
      ]
    },
    {
      "cell_type": "code",
      "execution_count": 89,
      "metadata": {
        "id": "b6GS0aEhQGk2"
      },
      "outputs": [],
      "source": [
        "import pandas as pd\n",
        "# 경로 설정\n",
        "df_final=pd.read_csv('/content/final_salary_cluster.csv')"
      ]
    },
    {
      "cell_type": "code",
      "execution_count": 90,
      "metadata": {
        "id": "YRqED2N_QGk4"
      },
      "outputs": [],
      "source": [
        "import pandas as pd\n",
        "\n",
        "# df_final을 사용한다고 가정 (선수 데이터 포함)\n",
        "df = df_final.copy()\n",
        "\n",
        "# 총 급여 한도 설정\n",
        "salary_cap = 112000000\n",
        "\n",
        "# 각 클러스터별로 필요한 인원 수 설정\n",
        "cluster_requirements = {\n",
        "    0: 1,  # 클러스터 0: 1명\n",
        "    1: 3,  # 클러스터 1: 3명\n",
        "    2: 1,  # 클러스터 2: 1명\n",
        "    3: 2,  # 클러스터 3: 2명\n",
        "    4: 1,  # 클러스터 4: 1명\n",
        "    5: 1   # 클러스터 5: 1명\n",
        "}\n",
        "\n",
        "selected_players = []\n",
        "for cluster, num_players in cluster_requirements.items():\n",
        "    top_players = df[df['Cluster'] == cluster].nlargest(num_players, '전체적인 평점')\n",
        "    selected_players.extend(top_players[['PLAYER', 'Salary', '전체적인 평점', 'Cluster']].to_dict('records'))\n",
        "\n",
        "excluded_players = [p['PLAYER'] for p in selected_players]\n",
        "\n"
      ]
    },
    {
      "cell_type": "code",
      "execution_count": 91,
      "metadata": {
        "colab": {
          "base_uri": "https://localhost:8080/"
        },
        "id": "XMRQd-y7SiUs",
        "outputId": "26de62af-f5d5-4f3f-82bc-7fe381c5ef89"
      },
      "outputs": [
        {
          "data": {
            "text/plain": [
              "[{'PLAYER': 'Jrue Holiday',\n",
              "  'Salary': 34319520.0,\n",
              "  '전체적인 평점': 8.322794916831938,\n",
              "  'Cluster': 0},\n",
              " {'PLAYER': 'Franz Wagner',\n",
              "  'Salary': 5258280.0,\n",
              "  '전체적인 평점': 8.155521414745108,\n",
              "  'Cluster': 1},\n",
              " {'PLAYER': 'Terry Rozier',\n",
              "  'Salary': 21486316.0,\n",
              "  '전체적인 평점': 7.634911279767859,\n",
              "  'Cluster': 1},\n",
              " {'PLAYER': 'Dejounte Murray',\n",
              "  'Salary': 17071120.0,\n",
              "  '전체적인 평점': 7.5698869944078115,\n",
              "  'Cluster': 1},\n",
              " {'PLAYER': 'Joel Embiid',\n",
              "  'Salary': 33616770.0,\n",
              "  '전체적인 평점': 13.005239828767696,\n",
              "  'Cluster': 2},\n",
              " {'PLAYER': 'Giannis Antetokounmpo',\n",
              "  'Salary': 42492492.0,\n",
              "  '전체적인 평점': 15.068057338989538,\n",
              "  'Cluster': 3},\n",
              " {'PLAYER': 'Jayson Tatum',\n",
              "  'Salary': 30351780.0,\n",
              "  '전체적인 평점': 13.797792368776374,\n",
              "  'Cluster': 3},\n",
              " {'PLAYER': 'Darius Garland',\n",
              "  'Salary': 8920794.0,\n",
              "  '전체적인 평점': 9.757136447969048,\n",
              "  'Cluster': 4},\n",
              " {'PLAYER': 'Jamal Murray',\n",
              "  'Salary': 31650600.0,\n",
              "  '전체적인 평점': 8.4410867274808,\n",
              "  'Cluster': 5}]"
            ]
          },
          "execution_count": 91,
          "metadata": {},
          "output_type": "execute_result"
        }
      ],
      "source": [
        "selected_players"
      ]
    },
    {
      "cell_type": "code",
      "execution_count": 92,
      "metadata": {
        "colab": {
          "base_uri": "https://localhost:8080/"
        },
        "id": "77r06BJdUWoR",
        "outputId": "12eb7cec-8f86-4d5c-94fc-fd50cdd13d8b"
      },
      "outputs": [
        {
          "data": {
            "text/plain": [
              "225167672.0"
            ]
          },
          "execution_count": 92,
          "metadata": {},
          "output_type": "execute_result"
        }
      ],
      "source": [
        "# 3. 팀의 총 급여 계산\n",
        "total_salary = sum(player['Salary'] for player in selected_players)\n",
        "total_salary"
      ]
    },
    {
      "cell_type": "code",
      "execution_count": 93,
      "metadata": {
        "id": "YzN-0HZOV7oB"
      },
      "outputs": [],
      "source": [
        "# 2. 가장 비싼 선수를 대체하는 함수\n",
        "def replace_most_expensive_player(team, df, excluded_players):\n",
        "    # 2-1. 가장 비싼 선수 찾기\n",
        "    most_expensive_player = max(team, key=lambda x: x['Salary'])  # Salary 기준\n",
        "    cluster = most_expensive_player['Cluster']  # 해당 선수의 클러스터\n",
        "\n",
        "    # 2-2. 해당 클러스터에서 남은 후보들 중에서 다음으로 평점이 높은 선수 선택\n",
        "    # excluded_players에 포함되지 않은 선수들만 후보에 추가\n",
        "    candidates = df[(df['Cluster'] == cluster) &\n",
        "                    (~df['PLAYER'].isin([p['PLAYER'] for p in team])) &\n",
        "                    (~df['PLAYER'].isin(excluded_players))]\n",
        "    if candidates.empty:\n",
        "        return team  # 대체할 선수가 없는 경우 종료\n",
        "\n",
        "    # 가장 높은 평점을 가진 선수 선택\n",
        "    replacement = candidates.nlargest(1, '전체적인 평점').iloc[0].to_dict()\n",
        "\n",
        "    # 2-3. 팀에서 가장 비싼 선수를 대체\n",
        "    new_team = [p for p in team if p != most_expensive_player]\n",
        "    new_team.append(replacement)\n",
        "\n",
        "    return new_team, replacement['PLAYER']  # 교체된 선수 이름 반환\n",
        "\n"
      ]
    },
    {
      "cell_type": "code",
      "execution_count": 94,
      "metadata": {
        "id": "tesF80RYWAKR"
      },
      "outputs": [],
      "source": [
        "while total_salary > salary_cap:\n",
        "    selected_players, replaced_player = replace_most_expensive_player(selected_players, df, excluded_players)\n",
        "    excluded_players.append(replaced_player)  # 제외 선수 목록에 추가\n",
        "    total_salary = sum(player['Salary'] for player in selected_players)"
      ]
    },
    {
      "cell_type": "code",
      "execution_count": 97,
      "metadata": {
        "colab": {
          "base_uri": "https://localhost:8080/"
        },
        "id": "vLuBmIRXZ2QZ",
        "outputId": "be284889-9886-4bfb-bed2-55605e14f1f0"
      },
      "outputs": [
        {
          "name": "stdout",
          "output_type": "stream",
          "text": [
            "선택된 팀:\n",
            "             PLAYER      Salary    전체적인 평점  Cluster   SEASON TEAM   MIN\n",
            "0      Franz Wagner   5258280.0   8.155521        1      NaN  NaN   NaN\n",
            "1   Dejounte Murray  17071120.0   7.569887        1      NaN  NaN   NaN\n",
            "2    Darius Garland   8920794.0   9.757136        4      NaN  NaN   NaN\n",
            "3  Kevin Porter Jr.   3200000.0   7.747722        0  2022-23  HOU  34.3\n",
            "4       Evan Mobley   8478720.0   7.082348        5  2022-23  CLE  34.4\n",
            "5         Ja Morant  12119440.0  10.597250        2  2022-23  MEM  31.9\n",
            "6   Anthony Edwards  10733400.0  10.039151        3  2022-23  MIN  36.0\n",
            "7       Jalen Green   9441840.0   9.396637        3  2022-23  HOU  34.2\n",
            "8     Jarrett Allen  20000000.0   6.307101        1  2022-23  CLE  32.6\n",
            "평균 평점: 8.516972507458323, 총 급여: 95223594.0\n"
          ]
        }
      ],
      "source": [
        "# 5. 최종 팀의 총 평점과 평균 평점 계산\n",
        "total_rate = sum(player['전체적인 평점'] for player in selected_players)\n",
        "rate_avg = total_rate / len(selected_players)\n",
        "\n",
        "# 6. 최종 팀 데이터프레임으로 변환 및 출력\n",
        "final_team_df = pd.DataFrame(selected_players)\n",
        "print(\"선택된 팀:\")\n",
        "print(final_team_df)\n",
        "print(f\"평균 평점: {rate_avg}, 총 급여: {total_salary}\")\n"
      ]
    },
    {
      "cell_type": "code",
      "execution_count": null,
      "metadata": {
        "id": "kzIjFWLfaUBk"
      },
      "outputs": [],
      "source": []
    }
  ],
  "metadata": {
    "colab": {
      "provenance": []
    },
    "kernelspec": {
      "display_name": "Python 3",
      "name": "python3"
    },
    "language_info": {
      "name": "python"
    }
  },
  "nbformat": 4,
  "nbformat_minor": 0
}
