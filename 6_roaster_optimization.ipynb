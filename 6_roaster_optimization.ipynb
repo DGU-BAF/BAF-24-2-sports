{
  "cells": [
    {
      "cell_type": "code",
      "execution_count": null,
      "metadata": {
        "id": "nMuZbE-TWQdj"
      },
      "outputs": [],
      "source": [
        "!pip install tensorflow"
      ]
    },
    {
      "cell_type": "markdown",
      "metadata": {
        "id": "eBITz5bpgFmn"
      },
      "source": [
        "# 모델 불러오기 및 기본 함수"
      ]
    },
    {
      "cell_type": "code",
      "execution_count": null,
      "metadata": {
        "id": "n0LdU_EkWKpa"
      },
      "outputs": [],
      "source": [
        "import pandas as pd\n",
        "import numpy as np\n",
        "from tensorflow import keras"
      ]
    },
    {
      "cell_type": "code",
      "execution_count": null,
      "metadata": {
        "id": "vYcYisptpZnx"
      },
      "outputs": [],
      "source": [
        "# 모델 불러오기\n",
        "model = keras.models.load_model('final_model_7931.h5')\n",
        "\n",
        "# 예측 확률을 계산하는 함수 (final_model.h5 모델 사용)\n",
        "def calculate_probability(ratios):\n",
        "    # ratios는 (6,) 형태이므로 모델 입력 형태에 맞게 (1, 6, 1) 형태로 reshape\n",
        "    input_data = np.array(ratios).reshape(1, 6, 1)\n",
        "    # 모델 예측 결과\n",
        "    probability = model.predict(input_data)[0][0]\n",
        "    return probability\n",
        "\n",
        "# 최소 비율을 유지하며 합이 1이 되도록 정규화하는 함수\n",
        "def normalize_ratios(ratios, min_ratio=0.09):\n",
        "    # 각 비율이 최소 min_ratio 이상이 되도록 클리핑\n",
        "    ratios = np.maximum(ratios, min_ratio)\n",
        "\n",
        "    # 비율 합이 1이 되도록 정규화\n",
        "    ratios = ratios / np.sum(ratios)\n",
        "\n",
        "    # 정규화 후에도 비율이 min_ratio 이상이 되도록 조정 반복\n",
        "    while np.any(ratios < min_ratio):\n",
        "        deficit = np.sum(np.maximum(min_ratio - ratios, 0))\n",
        "        ratios = np.where(ratios >= min_ratio, ratios, min_ratio)\n",
        "        ratios = ratios / np.sum(ratios)  # 다시 정규화하여 합이 1이 되도록 조정\n",
        "\n",
        "    return ratios"
      ]
    },
    {
      "cell_type": "markdown",
      "metadata": {
        "id": "Xrqk0D_gpbRT"
      },
      "source": [
        "# Simulated Annealing (시뮬레이티드 어닐링)\n",
        "\n",
        "### 적용 방법:\n",
        "- 초기 상태 설정: 비율 조합의 초기 상태를 무작위로 설정\n",
        "- 변형 적용: 매 반복마다 새로운 비율 조합 생성, 확률적으로 조합 선택\n",
        "- 점진적 안정화: 반복을 거듭할수록 변동 범위를 줄여 최적의 조합에 수렴하도록\n"
      ]
    },
    {
      "cell_type": "code",
      "execution_count": null,
      "metadata": {
        "id": "Z_nWsXGdpLiC"
      },
      "outputs": [],
      "source": [
        "import numpy as np\n",
        "import random\n",
        "from tensorflow.keras.models import load_model\n",
        "\n",
        "# 시뮬레이티드 어닐링 함수 정의\n",
        "def simulated_annealing(initial_ratios, temperature, cooling_rate, iterations):\n",
        "    # 초기 설정\n",
        "    current_ratios = initial_ratios\n",
        "    current_score = calculate_probability(current_ratios)\n",
        "    best_ratios = current_ratios\n",
        "    best_score = current_score\n",
        "\n",
        "    for i in range(iterations):\n",
        "        # 현재 온도 설정\n",
        "        temp = temperature / (1 + cooling_rate * i)\n",
        "\n",
        "        # 새 비율 조합 생성\n",
        "        new_ratios = current_ratios + np.random.normal(0, 0.05, size=len(initial_ratios))\n",
        "        new_ratios = normalize_ratios(new_ratios)  # 정규화 및 최소 비율 적용\n",
        "\n",
        "        # 새 조합의 점수 계산\n",
        "        new_score = calculate_probability(new_ratios)\n",
        "\n",
        "        # 점수 비교 및 업데이트\n",
        "        if new_score > current_score or random.uniform(0, 1) < np.exp((new_score - current_score) / temp):\n",
        "            current_ratios = new_ratios\n",
        "            current_score = new_score\n",
        "\n",
        "            # 최고 점수 갱신\n",
        "            if new_score > best_score:\n",
        "                best_ratios = new_ratios\n",
        "                best_score = new_score\n",
        "\n",
        "    return best_ratios, best_score\n",
        "\n",
        "# 초기 파라미터 설정\n",
        "initial_ratios = np.array([0.2, 0.2, 0.2, 0.2, 0.1, 0.1])  # 클러스터 비율 초기값\n",
        "temperature = 10.0  # 초기 온도\n",
        "cooling_rate = 0.01  # 냉각률\n",
        "iterations = 2000  # 반복 횟수\n",
        "\n",
        "# 시뮬레이티드 어닐링 실행\n",
        "best_ratios, best_score = simulated_annealing(initial_ratios, temperature, cooling_rate, iterations)\n",
        "\n",
        "# 결과 출력\n",
        "print(\"최적의 비율 조합:\", best_ratios)\n",
        "print(\"최적의 예측 확률:\", best_score)\n"
      ]
    }
  ],
  "metadata": {
    "colab": {
      "provenance": []
    },
    "kernelspec": {
      "display_name": "Python 3",
      "name": "python3"
    },
    "language_info": {
      "name": "python"
    }
  },
  "nbformat": 4,
  "nbformat_minor": 0
}